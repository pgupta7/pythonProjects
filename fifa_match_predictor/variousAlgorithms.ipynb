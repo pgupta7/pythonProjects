{
 "cells": [
  {
   "cell_type": "code",
   "execution_count": 1,
   "metadata": {},
   "outputs": [
    {
     "name": "stdout",
     "output_type": "stream",
     "text": [
      "start\n",
      "   rank country_full country_abrv  cur_year_avg_weighted  rank_date  \\\n",
      "0     1      Germany          GER                    0.0 1993-08-08   \n",
      "1     2        Italy          ITA                    0.0 1993-08-08   \n",
      "2     3  Switzerland          SUI                    0.0 1993-08-08   \n",
      "3     4       Sweden          SWE                    0.0 1993-08-08   \n",
      "4     5    Argentina          ARG                    0.0 1993-08-08   \n",
      "\n",
      "   two_year_ago_weighted  three_year_ago_weighted  weighted_points  \n",
      "0                    0.0                      0.0              0.0  \n",
      "1                    0.0                      0.0              0.0  \n",
      "2                    0.0                      0.0              0.0  \n",
      "3                    0.0                      0.0              0.0  \n",
      "4                    0.0                      0.0              0.0  \n",
      "\n",
      "_______________\n",
      "\n",
      "        date home_team away_team  home_score  away_score tournament     city  \\\n",
      "0 1872-11-30  Scotland   England           0           0   Friendly  Glasgow   \n",
      "1 1873-03-08   England  Scotland           4           2   Friendly   London   \n",
      "2 1874-03-07  Scotland   England           2           1   Friendly  Glasgow   \n",
      "3 1875-03-06   England  Scotland           2           2   Friendly   London   \n",
      "4 1876-03-04  Scotland   England           3           0   Friendly  Glasgow   \n",
      "\n",
      "    country  neutral  \n",
      "0  Scotland    False  \n",
      "1   England    False  \n",
      "2  Scotland    False  \n",
      "3   England    False  \n",
      "4  Scotland    False  \n",
      "stop\n"
     ]
    }
   ],
   "source": [
    "import numpy as np # linear algebra\n",
    "import pandas as pd # data processing, CSV file I/O (e.g. pd.read_csv)\n",
    "from matplotlib import pyplot as plt\n",
    "\n",
    "print('start')\n",
    "rankings = pd.read_csv('fifa_ranking.csv')\n",
    "rankings = rankings.loc[:,['rank', 'country_full', 'country_abrv', 'cur_year_avg_weighted', 'rank_date', \n",
    "                           'two_year_ago_weighted', 'three_year_ago_weighted']]\n",
    "rankings = rankings.replace({\"IR Iran\": \"Iran\"})\n",
    "rankings['weighted_points'] =  rankings['cur_year_avg_weighted'] + rankings['two_year_ago_weighted'] + rankings['three_year_ago_weighted']\n",
    "rankings['rank_date'] = pd.to_datetime(rankings['rank_date'])\n",
    "# print(rankings['rank_date'].head())\n",
    "print(rankings.head())\n",
    "print('\\n_______________\\n')\n",
    "\n",
    "\n",
    "matches = pd.read_csv('results.csv')\n",
    "matches =  matches.replace({'Germany DR': 'Germany', 'China': 'China PR'})\n",
    "matches['date'] = pd.to_datetime(matches['date'])\n",
    "print(matches.head())\n",
    "\n",
    "world_cup = pd.read_csv('World Cup 2018 Dataset.csv')\n",
    "world_cup = world_cup.loc[:, ['Team', 'Group', 'First match \\nagainst', 'Second match\\n against', 'Third match\\n against']]\n",
    "world_cup = world_cup.dropna(how='all')\n",
    "world_cup = world_cup.replace({\"IRAN\": \"Iran\", \n",
    "                               \"Costarica\": \"Costa Rica\", \n",
    "                               \"Porugal\": \"Portugal\", \n",
    "                               \"Columbia\": \"Colombia\", \n",
    "                               \"Korea\" : \"Korea Republic\"})\n",
    "world_cup = world_cup.set_index('Team')\n",
    "print('stop')"
   ]
  },
  {
   "cell_type": "code",
   "execution_count": 2,
   "metadata": {},
   "outputs": [
    {
     "name": "stdout",
     "output_type": "stream",
     "text": [
      "start\n",
      "        date home_team     away_team  home_score  away_score  \\\n",
      "0 1993-08-08   Bolivia       Uruguay           3           1   \n",
      "1 1993-08-08    Brazil        Mexico           1           1   \n",
      "2 1993-08-08   Ecuador     Venezuela           5           0   \n",
      "3 1993-08-08    Guinea  Sierra Leone           1           0   \n",
      "4 1993-08-08  Paraguay     Argentina           1           3   \n",
      "\n",
      "                     tournament      city   country  neutral  rank_date  rank  \\\n",
      "0  FIFA World Cup qualification    La Paz   Bolivia    False 1993-08-08  59.0   \n",
      "1                      Friendly    Maceió    Brazil    False 1993-08-08   8.0   \n",
      "2  FIFA World Cup qualification     Quito   Ecuador    False 1993-08-08  35.0   \n",
      "3                      Friendly   Conakry    Guinea    False 1993-08-08  65.0   \n",
      "4  FIFA World Cup qualification  Asunción  Paraguay    False 1993-08-08  67.0   \n",
      "\n",
      "  country_full country_abrv  cur_year_avg_weighted  two_year_ago_weighted  \\\n",
      "0      Bolivia          BOL                    0.0                    0.0   \n",
      "1       Brazil          BRA                    0.0                    0.0   \n",
      "2      Ecuador          ECU                    0.0                    0.0   \n",
      "3       Guinea          GUI                    0.0                    0.0   \n",
      "4     Paraguay          PAR                    0.0                    0.0   \n",
      "\n",
      "   three_year_ago_weighted  weighted_points  \n",
      "0                      0.0              0.0  \n",
      "1                      0.0              0.0  \n",
      "2                      0.0              0.0  \n",
      "3                      0.0              0.0  \n",
      "4                      0.0              0.0  \n",
      "\n",
      "____________________\n",
      "\n",
      "        date home_team     away_team  home_score  away_score  \\\n",
      "0 1993-08-08   Bolivia       Uruguay           3           1   \n",
      "1 1993-08-08    Brazil        Mexico           1           1   \n",
      "2 1993-08-08   Ecuador     Venezuela           5           0   \n",
      "3 1993-08-08    Guinea  Sierra Leone           1           0   \n",
      "4 1993-08-08  Paraguay     Argentina           1           3   \n",
      "\n",
      "                     tournament      city   country  neutral rank_date_home  \\\n",
      "0  FIFA World Cup qualification    La Paz   Bolivia    False     1993-08-08   \n",
      "1                      Friendly    Maceió    Brazil    False     1993-08-08   \n",
      "2  FIFA World Cup qualification     Quito   Ecuador    False     1993-08-08   \n",
      "3                      Friendly   Conakry    Guinea    False     1993-08-08   \n",
      "4  FIFA World Cup qualification  Asunción  Paraguay    False     1993-08-08   \n",
      "\n",
      "          ...           three_year_ago_weighted_home weighted_points_home  \\\n",
      "0         ...                                    0.0                  0.0   \n",
      "1         ...                                    0.0                  0.0   \n",
      "2         ...                                    0.0                  0.0   \n",
      "3         ...                                    0.0                  0.0   \n",
      "4         ...                                    0.0                  0.0   \n",
      "\n",
      "  rank_date_away  rank_away  country_full_away  country_abrv_away  \\\n",
      "0     1993-08-08       22.0            Uruguay                URU   \n",
      "1     1993-08-08       14.0             Mexico                MEX   \n",
      "2     1993-08-08       94.0          Venezuela                VEN   \n",
      "3     1993-08-08       86.0       Sierra Leone                SLE   \n",
      "4     1993-08-08        5.0          Argentina                ARG   \n",
      "\n",
      "   cur_year_avg_weighted_away two_year_ago_weighted_away  \\\n",
      "0                         0.0                        0.0   \n",
      "1                         0.0                        0.0   \n",
      "2                         0.0                        0.0   \n",
      "3                         0.0                        0.0   \n",
      "4                         0.0                        0.0   \n",
      "\n",
      "   three_year_ago_weighted_away weighted_points_away  \n",
      "0                           0.0                  0.0  \n",
      "1                           0.0                  0.0  \n",
      "2                           0.0                  0.0  \n",
      "3                           0.0                  0.0  \n",
      "4                           0.0                  0.0  \n",
      "\n",
      "[5 rows x 25 columns]\n"
     ]
    }
   ],
   "source": [
    "# I want to have the ranks for every day \n",
    "print('start')\n",
    "rankings2=rankings.copy(deep=False)\n",
    "rankings = rankings.set_index(['rank_date'])\\\n",
    "            .groupby(['country_full'], group_keys=False)\\\n",
    "            .resample('D').first()\\\n",
    "            .fillna(method='ffill')\\\n",
    "            .reset_index()\n",
    "\n",
    "# print(rankings.head())\n",
    "# rankings1=rankings2.set_index(['rank_date'])\\\n",
    "#             .groupby(['country_full'], group_keys=False)\\\n",
    "#     .resample('D').first()\\\n",
    "#     .fillna(method='ffill')\\\n",
    "#     .reset_index()\n",
    "# print(rankings.head())\n",
    "\n",
    "# join the ranks\n",
    "matches = matches.merge(rankings, \n",
    "                        left_on=['date', 'home_team'], \n",
    "                        right_on=['rank_date', 'country_full'])\n",
    "print(matches.head())\n",
    "matches = matches.merge(rankings, \n",
    "                        left_on=['date', 'away_team'], \n",
    "                        right_on=['rank_date', 'country_full'], \n",
    "                        suffixes=('_home', '_away'))\n",
    "print('\\n____________________\\n')\n",
    "print(matches.head())\n",
    "matches_new=matches.copy()"
   ]
  },
  {
   "cell_type": "code",
   "execution_count": 3,
   "metadata": {},
   "outputs": [
    {
     "name": "stdout",
     "output_type": "stream",
     "text": [
      "start\n"
     ]
    }
   ],
   "source": [
    "# feature generation\n",
    "print('start')\n",
    "matches['rank_difference'] = matches['rank_home'] - matches['rank_away']\n",
    "matches['average_rank'] = (matches['rank_home'] + matches['rank_away'])/2\n",
    "matches['point_difference'] = matches['weighted_points_home'] - matches['weighted_points_away']\n",
    "matches['score_difference'] = matches['home_score'] - matches['away_score']\n",
    "matches['is_won'] = matches['score_difference'] > 0 # take draw as lost\n",
    "matches['is_stake'] = matches['tournament'] != 'Friendly'\n",
    "\n",
    "# I tried earlier rest days but it did not turn to be useful\n",
    "max_rest = 30\n",
    "matches['rest_days'] = matches.groupby('home_team').diff()['date'].dt.days.clip(0,max_rest).fillna(max_rest)\n",
    "\n",
    "# I tried earlier the team as well but that did not make a difference either\n",
    "matches['wc_participant'] = matches['home_team'] * matches['home_team'].isin(world_cup.index.tolist())\n",
    "matches['wc_participant'] = matches['wc_participant'].replace({'':'Other'})\n",
    "matches = matches.join(pd.get_dummies(matches['wc_participant']))"
   ]
  },
  {
   "cell_type": "code",
   "execution_count": 4,
   "metadata": {},
   "outputs": [
    {
     "name": "stdout",
     "output_type": "stream",
     "text": [
      "Index(['date', 'home_team', 'away_team', 'home_score', 'away_score',\n",
      "       'tournament', 'city', 'country', 'neutral', 'rank_date_home',\n",
      "       'rank_home', 'country_full_home', 'country_abrv_home',\n",
      "       'cur_year_avg_weighted_home', 'two_year_ago_weighted_home',\n",
      "       'three_year_ago_weighted_home', 'weighted_points_home',\n",
      "       'rank_date_away', 'rank_away', 'country_full_away', 'country_abrv_away',\n",
      "       'cur_year_avg_weighted_away', 'two_year_ago_weighted_away',\n",
      "       'three_year_ago_weighted_away', 'weighted_points_away'],\n",
      "      dtype='object')\n",
      "\n",
      "__________________\n",
      "\n"
     ]
    },
    {
     "data": {
      "text/html": [
       "<div>\n",
       "<style>\n",
       "    .dataframe thead tr:only-child th {\n",
       "        text-align: right;\n",
       "    }\n",
       "\n",
       "    .dataframe thead th {\n",
       "        text-align: left;\n",
       "    }\n",
       "\n",
       "    .dataframe tbody tr th {\n",
       "        vertical-align: top;\n",
       "    }\n",
       "</style>\n",
       "<table border=\"1\" class=\"dataframe\">\n",
       "  <thead>\n",
       "    <tr style=\"text-align: right;\">\n",
       "      <th></th>\n",
       "      <th>date</th>\n",
       "      <th>home_team</th>\n",
       "      <th>away_team</th>\n",
       "      <th>home_score</th>\n",
       "      <th>away_score</th>\n",
       "      <th>tournament</th>\n",
       "      <th>city</th>\n",
       "      <th>country</th>\n",
       "      <th>neutral</th>\n",
       "      <th>rank_date_home</th>\n",
       "      <th>...</th>\n",
       "      <th>Portugal</th>\n",
       "      <th>Russia</th>\n",
       "      <th>Saudi Arabia</th>\n",
       "      <th>Senegal</th>\n",
       "      <th>Serbia</th>\n",
       "      <th>Spain</th>\n",
       "      <th>Sweden</th>\n",
       "      <th>Switzerland</th>\n",
       "      <th>Tunisia</th>\n",
       "      <th>Uruguay</th>\n",
       "    </tr>\n",
       "  </thead>\n",
       "  <tbody>\n",
       "    <tr>\n",
       "      <th>0</th>\n",
       "      <td>1993-08-08</td>\n",
       "      <td>Bolivia</td>\n",
       "      <td>Uruguay</td>\n",
       "      <td>3</td>\n",
       "      <td>1</td>\n",
       "      <td>FIFA World Cup qualification</td>\n",
       "      <td>La Paz</td>\n",
       "      <td>Bolivia</td>\n",
       "      <td>False</td>\n",
       "      <td>1993-08-08</td>\n",
       "      <td>...</td>\n",
       "      <td>0</td>\n",
       "      <td>0</td>\n",
       "      <td>0</td>\n",
       "      <td>0</td>\n",
       "      <td>0</td>\n",
       "      <td>0</td>\n",
       "      <td>0</td>\n",
       "      <td>0</td>\n",
       "      <td>0</td>\n",
       "      <td>0</td>\n",
       "    </tr>\n",
       "    <tr>\n",
       "      <th>1</th>\n",
       "      <td>1993-08-08</td>\n",
       "      <td>Brazil</td>\n",
       "      <td>Mexico</td>\n",
       "      <td>1</td>\n",
       "      <td>1</td>\n",
       "      <td>Friendly</td>\n",
       "      <td>Maceió</td>\n",
       "      <td>Brazil</td>\n",
       "      <td>False</td>\n",
       "      <td>1993-08-08</td>\n",
       "      <td>...</td>\n",
       "      <td>0</td>\n",
       "      <td>0</td>\n",
       "      <td>0</td>\n",
       "      <td>0</td>\n",
       "      <td>0</td>\n",
       "      <td>0</td>\n",
       "      <td>0</td>\n",
       "      <td>0</td>\n",
       "      <td>0</td>\n",
       "      <td>0</td>\n",
       "    </tr>\n",
       "    <tr>\n",
       "      <th>2</th>\n",
       "      <td>1993-08-08</td>\n",
       "      <td>Ecuador</td>\n",
       "      <td>Venezuela</td>\n",
       "      <td>5</td>\n",
       "      <td>0</td>\n",
       "      <td>FIFA World Cup qualification</td>\n",
       "      <td>Quito</td>\n",
       "      <td>Ecuador</td>\n",
       "      <td>False</td>\n",
       "      <td>1993-08-08</td>\n",
       "      <td>...</td>\n",
       "      <td>0</td>\n",
       "      <td>0</td>\n",
       "      <td>0</td>\n",
       "      <td>0</td>\n",
       "      <td>0</td>\n",
       "      <td>0</td>\n",
       "      <td>0</td>\n",
       "      <td>0</td>\n",
       "      <td>0</td>\n",
       "      <td>0</td>\n",
       "    </tr>\n",
       "    <tr>\n",
       "      <th>3</th>\n",
       "      <td>1993-08-08</td>\n",
       "      <td>Guinea</td>\n",
       "      <td>Sierra Leone</td>\n",
       "      <td>1</td>\n",
       "      <td>0</td>\n",
       "      <td>Friendly</td>\n",
       "      <td>Conakry</td>\n",
       "      <td>Guinea</td>\n",
       "      <td>False</td>\n",
       "      <td>1993-08-08</td>\n",
       "      <td>...</td>\n",
       "      <td>0</td>\n",
       "      <td>0</td>\n",
       "      <td>0</td>\n",
       "      <td>0</td>\n",
       "      <td>0</td>\n",
       "      <td>0</td>\n",
       "      <td>0</td>\n",
       "      <td>0</td>\n",
       "      <td>0</td>\n",
       "      <td>0</td>\n",
       "    </tr>\n",
       "    <tr>\n",
       "      <th>4</th>\n",
       "      <td>1993-08-08</td>\n",
       "      <td>Paraguay</td>\n",
       "      <td>Argentina</td>\n",
       "      <td>1</td>\n",
       "      <td>3</td>\n",
       "      <td>FIFA World Cup qualification</td>\n",
       "      <td>Asunción</td>\n",
       "      <td>Paraguay</td>\n",
       "      <td>False</td>\n",
       "      <td>1993-08-08</td>\n",
       "      <td>...</td>\n",
       "      <td>0</td>\n",
       "      <td>0</td>\n",
       "      <td>0</td>\n",
       "      <td>0</td>\n",
       "      <td>0</td>\n",
       "      <td>0</td>\n",
       "      <td>0</td>\n",
       "      <td>0</td>\n",
       "      <td>0</td>\n",
       "      <td>0</td>\n",
       "    </tr>\n",
       "  </tbody>\n",
       "</table>\n",
       "<p>5 rows × 66 columns</p>\n",
       "</div>"
      ],
      "text/plain": [
       "        date home_team     away_team  home_score  away_score  \\\n",
       "0 1993-08-08   Bolivia       Uruguay           3           1   \n",
       "1 1993-08-08    Brazil        Mexico           1           1   \n",
       "2 1993-08-08   Ecuador     Venezuela           5           0   \n",
       "3 1993-08-08    Guinea  Sierra Leone           1           0   \n",
       "4 1993-08-08  Paraguay     Argentina           1           3   \n",
       "\n",
       "                     tournament      city   country  neutral rank_date_home  \\\n",
       "0  FIFA World Cup qualification    La Paz   Bolivia    False     1993-08-08   \n",
       "1                      Friendly    Maceió    Brazil    False     1993-08-08   \n",
       "2  FIFA World Cup qualification     Quito   Ecuador    False     1993-08-08   \n",
       "3                      Friendly   Conakry    Guinea    False     1993-08-08   \n",
       "4  FIFA World Cup qualification  Asunción  Paraguay    False     1993-08-08   \n",
       "\n",
       "    ...    Portugal Russia Saudi Arabia  Senegal  Serbia  Spain  Sweden  \\\n",
       "0   ...           0      0            0        0       0      0       0   \n",
       "1   ...           0      0            0        0       0      0       0   \n",
       "2   ...           0      0            0        0       0      0       0   \n",
       "3   ...           0      0            0        0       0      0       0   \n",
       "4   ...           0      0            0        0       0      0       0   \n",
       "\n",
       "  Switzerland  Tunisia Uruguay  \n",
       "0           0        0       0  \n",
       "1           0        0       0  \n",
       "2           0        0       0  \n",
       "3           0        0       0  \n",
       "4           0        0       0  \n",
       "\n",
       "[5 rows x 66 columns]"
      ]
     },
     "execution_count": 4,
     "metadata": {},
     "output_type": "execute_result"
    }
   ],
   "source": [
    "print(matches_new.columns)\n",
    "print('\\n__________________\\n')\n",
    "matches.head()"
   ]
  },
  {
   "cell_type": "code",
   "execution_count": 5,
   "metadata": {},
   "outputs": [],
   "source": [
    "# import matplotlib.pyplot as pl\n",
    "import matplotlib.patches as mpatches\n",
    "from time import time\n",
    "from sklearn.metrics import f1_score, accuracy_score\n",
    "\n",
    "\n",
    "def distribution(data, features,transformed = False):\n",
    "    \"\"\"\n",
    "    Visualization code for displaying skewed distributions of features\n",
    "    \"\"\"\n",
    "    \n",
    "    # Create figure\n",
    "    fig = plt.figure(figsize=(15,15));\n",
    "    fig.subplots_adjust(hspace=0.5, wspace=0.2)\n",
    "    # Skewed feature plotting\n",
    "    for i, feature in enumerate(features):\n",
    "        ax = fig.add_subplot(3, 2, i+1)\n",
    "        ax.hist(data[feature], bins = 25, color = '#00A0A0')\n",
    "        ax.set_title(\"'%s' Feature Distribution\"%(feature), fontsize = 14)\n",
    "        ax.set_xlabel(\"Value\")\n",
    "        ax.set_ylabel(\"Number of Records\")\n",
    "        #ax.set_ylim((0, 2000))\n",
    "        #ax.set_yticks([0, 500, 1000, 1500, 2000])\n",
    "        #ax.set_yticklabels([0, 500, 1000, 1500, \">2000\"])\n",
    "\n",
    "    # Plot aesthetics\n",
    "    #if transformed:\n",
    "     #   fig.suptitle(\"Log-transformed Distributions of Continuous Census Data Features\", \\\n",
    "      #      fontsize = 16, y = 1.03)\n",
    "    #else:\n",
    "     #   fig.suptitle(\"Skewed Distributions of Continuous Census Data Features\", \\\n",
    "      #      fontsize = 16, y = 1.03)\n",
    "    \n",
    "    #fig.tight_layout()\n",
    "    plt.show()\n"
   ]
  },
  {
   "cell_type": "code",
   "execution_count": 6,
   "metadata": {},
   "outputs": [],
   "source": [
    "def sing_distribution(data, feature):    \n",
    "    fig=plt.hist(data[feature], bins = 25, color = '#00A0A0')\n",
    "    plt.title(\"'%s' Feature Distribution\"%(feature), fontsize = 14)\n",
    "    plt.xlabel(\"Value\")\n",
    "    plt.ylabel(\"Number of Records\")\n",
    "        \n",
    "#     fig.show()\n",
    "    plt.show()\n"
   ]
  },
  {
   "cell_type": "code",
   "execution_count": 112,
   "metadata": {},
   "outputs": [],
   "source": [
    "matches=matches.drop(['log_point_difference'], axis=1)"
   ]
  },
  {
   "cell_type": "code",
   "execution_count": 7,
   "metadata": {},
   "outputs": [
    {
     "name": "stdout",
     "output_type": "stream",
     "text": [
      "0    [12.1799075267, 4.99853310007, 16.2818329729, ...\n",
      "1                                             0.552529\n",
      "dtype: object\n",
      "\n",
      "___________\n",
      "\n"
     ]
    },
    {
     "data": {
      "image/png": "[encoded data removed]",
      "text/plain": [
       "<matplotlib.figure.Figure at 0x7f352805acc0>"
      ]
     },
     "metadata": {},
     "output_type": "display_data"
    }
   ],
   "source": [
    "# import visuals as vs\n",
    "# vs.distribution(matches_new)\n",
    "# print(matches_new.head())\n",
    "from scipy.stats import boxcox\n",
    "data_g=pd.Series(boxcox(matches['average_rank']))\n",
    "print(data_g)\n",
    "# aa=pd.DataFrame(data_g[0])\n",
    "# print(aa.head())\n",
    "matches['log_average_rank']=data_g[0]\n",
    "features=['average_rank', 'rank_difference', 'point_difference','log_average_rank','is_stake'];\n",
    "print('\\n___________\\n')\n",
    "distribution(matches,features)"
   ]
  },
  {
   "cell_type": "code",
   "execution_count": 8,
   "metadata": {},
   "outputs": [],
   "source": [
    "from sklearn import linear_model\n",
    "from sklearn import ensemble\n",
    "from sklearn.model_selection import train_test_split\n",
    "from sklearn.metrics import confusion_matrix, roc_curve, roc_auc_score\n",
    "from sklearn.pipeline import Pipeline\n",
    "from sklearn.preprocessing import PolynomialFeatures\n",
    "\n",
    "\n",
    "X, y = matches.loc[:,['average_rank', 'rank_difference', 'point_difference', 'is_stake']], matches['is_won']\n",
    "X_train, X_test, y_train, y_test = train_test_split(\n",
    "    X, y, test_size=0.2, random_state=42)\n",
    "\n",
    "# logreg = linear_model.LogisticRegression(C=1e-5)\n",
    "# features = PolynomialFeatures(degree=2)\n",
    "# model = Pipeline([\n",
    "#     ('polynomial_features', features),\n",
    "#     ('logistic_regression', logreg)\n",
    "# ])\n",
    "# model = model.fit(X_train, y_train)"
   ]
  },
  {
   "cell_type": "code",
   "execution_count": 9,
   "metadata": {},
   "outputs": [],
   "source": [
    "from sklearn import linear_model\n",
    "from sklearn import ensemble\n",
    "from sklearn.model_selection import train_test_split\n",
    "from sklearn.metrics import confusion_matrix, roc_curve, roc_auc_score\n",
    "from sklearn.pipeline import Pipeline\n",
    "from sklearn.preprocessing import PolynomialFeatures\n",
    "\n",
    "X, y = matches.loc[:,['log_average_rank', 'rank_difference', 'point_difference', 'is_stake']], matches['is_won']\n",
    "X_train, X_test, y_train, y_test = train_test_split(\n",
    "    X, y, test_size=0.2, random_state=42)"
   ]
  },
  {
   "cell_type": "code",
   "execution_count": 10,
   "metadata": {},
   "outputs": [
    {
     "name": "stdout",
     "output_type": "stream",
     "text": [
      "accuracy on training set:  0.674626259893\n",
      "accuracy on testing set:  0.679112554113\n",
      "precision on training set:  0.655295972481\n",
      "precision on testing set:  0.661142857143\n",
      "[[  1.04834245e-02  -1.96534936e-02   4.44014304e-05   6.73683547e-02]]\n",
      "[-0.33966417]\n"
     ]
    }
   ],
   "source": [
    "from sklearn.linear_model import LogisticRegression\n",
    "from sklearn.metrics import fbeta_score\n",
    "from sklearn.metrics import accuracy_score, f1_score\n",
    "simpleModel=LogisticRegression()\n",
    "simpleModel.fit(X_train,y_train)\n",
    "y_predSimpleModel=simpleModel.predict(X_test)\n",
    "y_train_pred=simpleModel.predict(X_train)\n",
    "print('accuracy on training set: ', accuracy_score(y_train, y_train_pred))\n",
    "print('accuracy on testing set: ', accuracy_score(y_test, y_predSimpleModel))\n",
    "print('precision on training set: ', fbeta_score(y_train, y_train_pred, beta=1))\n",
    "print('precision on testing set: ', fbeta_score(y_test, y_predSimpleModel, beta=1))\n",
    "print(simpleModel.coef_)\n",
    "print(simpleModel.intercept_ )"
   ]
  },
  {
   "cell_type": "code",
   "execution_count": 11,
   "metadata": {},
   "outputs": [],
   "source": [
    "# TODO: Import two metrics from sklearn - fbeta_score and accuracy_score\n",
    "from sklearn.metrics import fbeta_score\n",
    "from sklearn.metrics import accuracy_score, f1_score\n",
    "from sklearn.svm import SVC\n",
    "from time import time\n",
    "\n",
    "def train_predict(learner, sample_size, X_train, y_train, X_test, y_test): \n",
    "    '''\n",
    "    inputs:\n",
    "       - learner: the learning algorithm to be trained and predicted on\n",
    "       - sample_size: the size of samples (number) to be drawn from training set\n",
    "       - X_train: features training set\n",
    "       - y_train: income training set\n",
    "       - X_test: features testing set\n",
    "       - y_test: income testing set\n",
    "    '''\n",
    "    \n",
    "    results = {}\n",
    "    \n",
    "    start = time() # Get start time\n",
    "    learner.fit(X_train[:sample_size],y_train[:sample_size])\n",
    "    end = time() # Get end time\n",
    "    \n",
    "    results['train_time'] = time()-start\n",
    "        \n",
    "    start = time() # Get start time\n",
    "    predictions_test = learner.predict(X_test)\n",
    "    predictions_train = learner.predict(X_train)\n",
    "    end = time() # Get end time\n",
    "    \n",
    "    results['pred_time'] = end-start\n",
    "            \n",
    "    results['acc_train'] = accuracy_score(y_train,predictions_train)\n",
    "\n",
    "    results['acc_test'] = accuracy_score(y_test,predictions_test)\n",
    "    \n",
    "    results['f_train'] = fbeta_score(y_train,predictions_train,beta=1)\n",
    "    \n",
    "    results['f_test'] = fbeta_score(y_test,predictions_test,beta=1)\n",
    "       \n",
    "    # Success\n",
    "    print(\"{} trained on {} samples.\".format(learner.__class__.__name__, sample_size))\n",
    "    \n",
    "    print('training set accuracy: ', results['acc_train'])\n",
    "    print('testing set accuracy: ', results['acc_test'])\n",
    "    print('fbeta score for training set: ', results['f_train'])\n",
    "    print('fbeta score for testing set: ', results['f_test'])\n",
    "    print(learner.get_params())\n",
    "    print('\\n\\n')\n",
    "        \n",
    "    # Return the results\n",
    "    return results"
   ]
  },
  {
   "cell_type": "code",
   "execution_count": 18,
   "metadata": {},
   "outputs": [
    {
     "name": "stdout",
     "output_type": "stream",
     "text": [
      "DecisionTreeClassifier trained on 14783 samples.\n",
      "training set accuracy:  0.960156937022\n",
      "testing set accuracy:  0.598484848485\n",
      "fbeta score for training set:  0.957377523699\n",
      "fbeta score for testing set:  0.587089593767\n",
      "{'max_depth': None, 'min_samples_leaf': 1, 'class_weight': None, 'presort': False, 'random_state': 42, 'min_samples_split': 2, 'splitter': 'best', 'max_leaf_nodes': None, 'criterion': 'gini', 'min_weight_fraction_leaf': 0.0, 'max_features': None, 'min_impurity_split': 1e-07}\n",
      "\n",
      "\n",
      "\n",
      "AdaBoostClassifier trained on 14783 samples.\n",
      "training set accuracy:  0.681390786714\n",
      "testing set accuracy:  0.665313852814\n",
      "fbeta score for training set:  0.670352743561\n",
      "fbeta score for testing set:  0.656102307478\n",
      "{'base_estimator': DecisionTreeClassifier(class_weight=None, criterion='gini', max_depth=2,\n",
      "            max_features=None, max_leaf_nodes=None,\n",
      "            min_impurity_split=1e-07, min_samples_leaf=1,\n",
      "            min_samples_split=2, min_weight_fraction_leaf=0.0,\n",
      "            presort=False, random_state=None, splitter='best'), 'base_estimator__presort': False, 'base_estimator__class_weight': None, 'random_state': 42, 'base_estimator__max_leaf_nodes': None, 'base_estimator__max_depth': 2, 'base_estimator__criterion': 'gini', 'base_estimator__splitter': 'best', 'base_estimator__min_samples_split': 2, 'n_estimators': 50, 'learning_rate': 1.0, 'base_estimator__random_state': None, 'base_estimator__min_weight_fraction_leaf': 0.0, 'base_estimator__max_features': None, 'algorithm': 'SAMME.R', 'base_estimator__min_samples_leaf': 1, 'base_estimator__min_impurity_split': 1e-07}\n",
      "\n",
      "\n",
      "\n",
      "SVC trained on 14783 samples.\n",
      "training set accuracy:  0.803828722181\n",
      "testing set accuracy:  0.632846320346\n",
      "fbeta score for training set:  0.792945880337\n",
      "fbeta score for testing set:  0.575273865415\n",
      "{'shrinking': True, 'max_iter': -1, 'kernel': 'rbf', 'random_state': None, 'C': 1.0, 'gamma': 'auto', 'tol': 0.001, 'verbose': False, 'decision_function_shape': None, 'probability': False, 'cache_size': 200, 'degree': 3, 'class_weight': None, 'coef0': 0.0}\n",
      "\n",
      "\n",
      "\n",
      "RandomForestClassifier trained on 14783 samples.\n",
      "training set accuracy:  0.94094568085\n",
      "testing set accuracy:  0.622023809524\n",
      "fbeta score for training set:  0.938351811313\n",
      "fbeta score for testing set:  0.597754103081\n",
      "{'max_depth': None, 'min_samples_leaf': 1, 'class_weight': None, 'random_state': None, 'min_samples_split': 2, 'warm_start': False, 'bootstrap': True, 'verbose': 0, 'n_estimators': 10, 'max_leaf_nodes': None, 'n_jobs': 1, 'criterion': 'gini', 'min_weight_fraction_leaf': 0.0, 'max_features': 'auto', 'oob_score': False, 'min_impurity_split': 1e-07}\n",
      "\n",
      "\n",
      "\n",
      "GaussianNB trained on 14783 samples.\n",
      "training set accuracy:  0.672935128188\n",
      "testing set accuracy:  0.678841991342\n",
      "fbeta score for training set:  0.659098921244\n",
      "fbeta score for testing set:  0.667600112013\n",
      "{'priors': None}\n",
      "\n",
      "\n",
      "\n"
     ]
    }
   ],
   "source": [
    "from sklearn.metrics import make_scorer\n",
    "from sklearn.grid_search import GridSearchCV\n",
    "from sklearn.naive_bayes import MultinomialNB\n",
    "from sklearn.tree import DecisionTreeClassifier\n",
    "from sklearn.svm import SVC\n",
    "from sklearn.ensemble import AdaBoostClassifier\n",
    "from sklearn.ensemble import RandomForestClassifier\n",
    "from sklearn.naive_bayes import GaussianNB\n",
    "\n",
    "classifiers=[DecisionTreeClassifier(random_state=42), \n",
    "             AdaBoostClassifier(base_estimator = DecisionTreeClassifier(max_depth=2), random_state=42),\n",
    "             SVC(kernel=\"rbf\"),\n",
    "             RandomForestClassifier(),\n",
    "             GaussianNB()]\n",
    "clf_A = DecisionTreeClassifier(random_state=42)\n",
    "clf_B = AdaBoostClassifier(base_estimator = DecisionTreeClassifier(max_depth=2), random_state=42)\n",
    "clf_C = MultinomialNB()\n",
    "results={}\n",
    "for i, clf in enumerate(classifiers):\n",
    "    clf_name=clf.__class__.__name__\n",
    "    results[clf_name]=train_predict(clf,len(y_train),X_train, y_train,X_test,y_test)\n"
   ]
  },
  {
   "cell_type": "code",
   "execution_count": 23,
   "metadata": {},
   "outputs": [
    {
     "name": "stdout",
     "output_type": "stream",
     "text": [
      "Fitting 3 folds for each of 4 candidates, totalling 12 fits\n",
      "[CV] gamma=1e-05 .....................................................\n",
      "[CV] ...................... gamma=1e-05, score=0.643064, total=   4.5s\n",
      "[CV] gamma=1e-05 .....................................................\n"
     ]
    },
    {
     "name": "stderr",
     "output_type": "stream",
     "text": [
      "[Parallel(n_jobs=1)]: Done   1 out of   1 | elapsed:    6.5s remaining:    0.0s\n"
     ]
    },
    {
     "name": "stdout",
     "output_type": "stream",
     "text": [
      "[CV] ...................... gamma=1e-05, score=0.621868, total=   4.6s\n",
      "[CV] gamma=1e-05 .....................................................\n"
     ]
    },
    {
     "name": "stderr",
     "output_type": "stream",
     "text": [
      "[Parallel(n_jobs=1)]: Done   2 out of   2 | elapsed:   13.0s remaining:    0.0s\n"
     ]
    },
    {
     "name": "stdout",
     "output_type": "stream",
     "text": [
      "[CV] ...................... gamma=1e-05, score=0.661339, total=   4.4s\n",
      "[CV] gamma=5e-05 .....................................................\n"
     ]
    },
    {
     "name": "stderr",
     "output_type": "stream",
     "text": [
      "[Parallel(n_jobs=1)]: Done   3 out of   3 | elapsed:   19.4s remaining:    0.0s\n"
     ]
    },
    {
     "name": "stdout",
     "output_type": "stream",
     "text": [
      "[CV] ...................... gamma=5e-05, score=0.650770, total=   4.6s\n",
      "[CV] gamma=5e-05 .....................................................\n"
     ]
    },
    {
     "name": "stderr",
     "output_type": "stream",
     "text": [
      "[Parallel(n_jobs=1)]: Done   4 out of   4 | elapsed:   25.9s remaining:    0.0s\n"
     ]
    },
    {
     "name": "stdout",
     "output_type": "stream",
     "text": [
      "[CV] ...................... gamma=5e-05, score=0.632766, total=   4.6s\n",
      "[CV] gamma=5e-05 .....................................................\n"
     ]
    },
    {
     "name": "stderr",
     "output_type": "stream",
     "text": [
      "[Parallel(n_jobs=1)]: Done   5 out of   5 | elapsed:   32.5s remaining:    0.0s\n"
     ]
    },
    {
     "name": "stdout",
     "output_type": "stream",
     "text": [
      "[CV] ...................... gamma=5e-05, score=0.672799, total=   4.7s\n",
      "[CV] gamma=0.0001 ....................................................\n"
     ]
    },
    {
     "name": "stderr",
     "output_type": "stream",
     "text": [
      "[Parallel(n_jobs=1)]: Done   6 out of   6 | elapsed:   39.2s remaining:    0.0s\n"
     ]
    },
    {
     "name": "stdout",
     "output_type": "stream",
     "text": [
      "[CV] ..................... gamma=0.0001, score=0.653491, total=   4.9s\n",
      "[CV] gamma=0.0001 ....................................................\n"
     ]
    },
    {
     "name": "stderr",
     "output_type": "stream",
     "text": [
      "[Parallel(n_jobs=1)]: Done   7 out of   7 | elapsed:   45.9s remaining:    0.0s\n"
     ]
    },
    {
     "name": "stdout",
     "output_type": "stream",
     "text": [
      "[CV] ..................... gamma=0.0001, score=0.639180, total=   4.9s\n",
      "[CV] gamma=0.0001 ....................................................\n"
     ]
    },
    {
     "name": "stderr",
     "output_type": "stream",
     "text": [
      "[Parallel(n_jobs=1)]: Done   8 out of   8 | elapsed:   52.7s remaining:    0.0s\n"
     ]
    },
    {
     "name": "stdout",
     "output_type": "stream",
     "text": [
      "[CV] ..................... gamma=0.0001, score=0.675642, total=   5.0s\n",
      "[CV] gamma=0.0002 ....................................................\n"
     ]
    },
    {
     "name": "stderr",
     "output_type": "stream",
     "text": [
      "[Parallel(n_jobs=1)]: Done   9 out of   9 | elapsed:   59.7s remaining:    0.0s\n"
     ]
    },
    {
     "name": "stdout",
     "output_type": "stream",
     "text": [
      "[CV] ..................... gamma=0.0002, score=0.655224, total=   5.1s\n",
      "[CV] gamma=0.0002 ....................................................\n",
      "[CV] ..................... gamma=0.0002, score=0.636144, total=   5.2s\n",
      "[CV] gamma=0.0002 ....................................................\n",
      "[CV] ..................... gamma=0.0002, score=0.674679, total=   5.2s\n"
     ]
    },
    {
     "name": "stderr",
     "output_type": "stream",
     "text": [
      "[Parallel(n_jobs=1)]: Done  12 out of  12 | elapsed:  1.3min finished\n"
     ]
    },
    {
     "name": "stdout",
     "output_type": "stream",
     "text": [
      "SVC(C=1.0, cache_size=200, class_weight=None, coef0=0.0,\n",
      "  decision_function_shape=None, degree=3, gamma=0.0001, kernel='rbf',\n",
      "  max_iter=-1, probability=False, random_state=None, shrinking=True,\n",
      "  tol=0.001, verbose=False)\n",
      "Unoptimized model\n",
      "------\n",
      "Accuracy score on testing data: 0.6328\n",
      "F-score on testing data: 0.5753\n",
      "\n",
      "Optimized Model\n",
      "------\n",
      "Final accuracy score on the testing data: 0.6810\n",
      "Final F-score on the testing data: 0.6655\n"
     ]
    }
   ],
   "source": [
    "from sklearn.metrics import make_scorer\n",
    "from sklearn.model_selection import GridSearchCV\n",
    "clf = SVC(kernel=\"rbf\")\n",
    "parameters={'gamma':[0.00001,0.00005, 0.0001, 0.0002]}\n",
    "scorer = make_scorer(fbeta_score, beta=1)\n",
    "grid_obj = GridSearchCV(clf, parameters, scoring=scorer, verbose=10)\n",
    "grid_fit = grid_obj.fit(X_train, y_train)\n",
    "best_clf = grid_fit.best_estimator_\n",
    "print(best_clf)\n",
    "\n",
    "predictions = (clf.fit(X_train, y_train)).predict(X_test)\n",
    "best_predictions = best_clf.predict(X_test)\n",
    "\n",
    "# Report the before-and-afterscores\n",
    "print(\"Unoptimized model\\n------\")\n",
    "print(\"Accuracy score on testing data: {:.4f}\".format(accuracy_score(y_test, predictions)))\n",
    "print(\"F-score on testing data: {:.4f}\".format(fbeta_score(y_test, predictions, beta = 1)))\n",
    "print(\"\\nOptimized Model\\n------\")\n",
    "print(\"Final accuracy score on the testing data: {:.4f}\".format(accuracy_score(y_test, best_predictions)))\n",
    "print(\"Final F-score on the testing data: {:.4f}\".format(fbeta_score(y_test, best_predictions, beta = 1)))"
   ]
  },
  {
   "cell_type": "code",
   "execution_count": null,
   "metadata": {},
   "outputs": [],
   "source": []
  }
 ],
 "metadata": {
  "kernelspec": {
   "display_name": "Python 3",
   "language": "python",
   "name": "python3"
  },
  "language_info": {
   "codemirror_mode": {
    "name": "ipython",
    "version": 3
   },
   "file_extension": ".py",
   "mimetype": "text/x-python",
   "name": "python",
   "nbconvert_exporter": "python",
   "pygments_lexer": "ipython3",
   "version": "3.5.2"
  }
 },
 "nbformat": 4,
 "nbformat_minor": 2
}
